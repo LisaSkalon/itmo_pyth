{
 "cells": [
  {
   "cell_type": "markdown",
   "metadata": {},
   "source": [
    "# Homework 1\n",
    "## Author Lisa Skalon\n",
    "\n",
    "*The task was to search a pattern of active site  of isocitrate lyase enzyme in random isocitrate fasta file. The pattern for the active site looks like K-[KR]-C-G-H-[LMQR], fasta file contains one amino acid sequence of ILE isolated from Saccharomyces cerevisiae (strain ATCC 204508 / S288c) sample.*"
   ]
  },
  {
   "cell_type": "code",
   "execution_count": 1,
   "metadata": {},
   "outputs": [
    {
     "name": "stdout",
     "output_type": "stream",
     "text": [
      "Isocitrate lyase P2824 contains its active site PS00161 at 214:220 position: stnKKCGHMagr\n"
     ]
    }
   ],
   "source": [
    "import re\n",
    "pattern=r'K[RK]CGH[LMQR]'\n",
    "handle=open('ISL.fasta', 'r')\n",
    "header = ''\n",
    "seq=[]\n",
    "for line in handle:\n",
    "    if line.startswith('>'):\n",
    "        header=line\n",
    "    else:\n",
    "        seq.append(line[:-1])\n",
    "fastaid=re.search('[A-Z1-9]+', header).group(0)\n",
    "all_seq=''.join(seq)\n",
    "\n",
    "for match in re.finditer(pattern, all_seq):\n",
    "    start = match.start()\n",
    "    end = match.end()\n",
    "    site = match.group()\n",
    "    site_plus=all_seq[start-3:start].lower()+site+all_seq[end:end+3].lower()\n",
    "\n",
    "    print('Isocitrate lyase {} contains its active site PS00161 at {}:{} position: {}'.format(fastaid, start, end, site_plus))\n"
   ]
  },
  {
   "cell_type": "code",
   "execution_count": null,
   "metadata": {
    "collapsed": true
   },
   "outputs": [],
   "source": []
  }
 ],
 "metadata": {
  "kernelspec": {
   "display_name": "Python 3",
   "language": "python",
   "name": "python3"
  },
  "language_info": {
   "codemirror_mode": {
    "name": "ipython",
    "version": 3
   },
   "file_extension": ".py",
   "mimetype": "text/x-python",
   "name": "python",
   "nbconvert_exporter": "python",
   "pygments_lexer": "ipython3",
   "version": "3.6.9"
  }
 },
 "nbformat": 4,
 "nbformat_minor": 2
}
