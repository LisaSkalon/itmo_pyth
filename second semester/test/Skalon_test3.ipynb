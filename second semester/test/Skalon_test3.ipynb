{
 "cells": [
  {
   "cell_type": "raw",
   "metadata": {},
   "source": [
    "(4 points)\n",
    "In this task, you need to use API of numbersapi.com site.\n",
    "You are given a set of numbers: 17, 45, 999, 1883. For each of the numbers, you need to find\n",
    "out if there is an interesting mathematical or historical fact about it. The answer should contain\n",
    "these facts marked as “math” or “hist”."
   ]
  },
  {
   "cell_type": "code",
   "execution_count": 3,
   "metadata": {
    "collapsed": true
   },
   "outputs": [],
   "source": [
    "import requests"
   ]
  },
  {
   "cell_type": "code",
   "execution_count": 4,
   "metadata": {
    "collapsed": true
   },
   "outputs": [],
   "source": [
    "num = [17, 45, 999, 1883]"
   ]
  },
  {
   "cell_type": "code",
   "execution_count": 25,
   "metadata": {},
   "outputs": [
    {
     "name": "stdout",
     "output_type": "stream",
     "text": [
      "\n",
      "math fact: 17 is known as the Feller number, after the famous mathematician William Feller who taught at Princeton University for many years.\n",
      "\n",
      "hist fact: 17 is the year that Herod Antipas, son of Herod the Great, builds on the western shore of the Sea of Galilee, the city Tiberias in honor of Tiberius.\n",
      "\n",
      "math fact: 45 is a triangular number, a hexagonal and 16-gonal number, a Kaprekar number, and a Harshad number.\n",
      "\n",
      "hist fact: 45 is the year that Marcus Vinicius and Titus Flavius Sabinus become Roman consuls.\n",
      "\n",
      "math fact: 999 is a boring number.\n",
      "\n",
      "hist fact: 999 is the year that Gerbert of Aurillac becomes Pope Silvester II and succeeds Pope Gregory V as the 139th pope on April 2nd.\n",
      "\n",
      "math fact: 1883 is the number of conjugacy classes of the alternating group A_{28}.\n",
      "\n",
      "hist fact: 1883 is the year that a depression starts in Seattle, United States.\n"
     ]
    }
   ],
   "source": [
    "# we make a request for math and historical facts\n",
    "for number in num:\n",
    "    response = requests.get(\"http://numbersapi.com/\" + str(number) + '/math')\n",
    "    print(\"\\n\" + 'math fact: ' + response.text)\n",
    "    response1 = requests.get(\"http://numbersapi.com/\" + str(number) + '/year')\n",
    "    print(\"\\n\" + 'hist fact: ' + response1.text)"
   ]
  },
  {
   "cell_type": "code",
   "execution_count": null,
   "metadata": {},
   "outputs": [],
   "source": []
  },
  {
   "cell_type": "code",
   "execution_count": null,
   "metadata": {},
   "outputs": [],
   "source": []
  },
  {
   "cell_type": "code",
   "execution_count": null,
   "metadata": {
    "collapsed": true
   },
   "outputs": [],
   "source": []
  }
 ],
 "metadata": {
  "kernelspec": {
   "display_name": "Python 3",
   "language": "python",
   "name": "python3"
  },
  "language_info": {
   "codemirror_mode": {
    "name": "ipython",
    "version": 3
   },
   "file_extension": ".py",
   "mimetype": "text/x-python",
   "name": "python",
   "nbconvert_exporter": "python",
   "pygments_lexer": "ipython3",
   "version": "3.6.10"
  }
 },
 "nbformat": 4,
 "nbformat_minor": 2
}
