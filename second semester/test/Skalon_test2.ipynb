{
 "cells": [
  {
   "cell_type": "raw",
   "metadata": {},
   "source": [
    "(4 points)\n",
    "You have noticed that map() function returns something different than list. Simply saying, it\n",
    "returns iterator. Up to this point, we used list(map(...)) syntax, but remember that iterators in\n",
    "some cases are more preferable than lists.\n",
    "This task is devoted to understanding how iterators work.\n",
    "● First create iterator via my_iter = map(lambda ...) construction that takes [1,2,3,4,5,6]\n",
    "and returns True if there is no remainder after division of the list’s element on 3 and\n",
    "returns False otherwise.\n",
    "● In infinite loop proceed the iterator using the next() function on it. Observe the appearing\n",
    "error in this loop.\n",
    "● Write except block catching this particular error.\n",
    "● Based on this usecase try to understand in which cases iterators might be more\n",
    "preferable than lists."
   ]
  },
  {
   "cell_type": "code",
   "execution_count": 26,
   "metadata": {
    "collapsed": true
   },
   "outputs": [],
   "source": [
    "# create an iterator\n",
    "my_iter = map(lambda x: x%3==0, [1,2,3,4,5,6])"
   ]
  },
  {
   "cell_type": "code",
   "execution_count": 27,
   "metadata": {},
   "outputs": [
    {
     "data": {
      "text/plain": [
       "[False, False, True, False, False, True]"
      ]
     },
     "execution_count": 27,
     "metadata": {},
     "output_type": "execute_result"
    }
   ],
   "source": [
    "# check if it is correct\n",
    "list(my_iter)"
   ]
  },
  {
   "cell_type": "code",
   "execution_count": 28,
   "metadata": {},
   "outputs": [
    {
     "ename": "SyntaxError",
     "evalue": "unexpected EOF while parsing (<ipython-input-28-4d83f5d8e300>, line 6)",
     "output_type": "error",
     "traceback": [
      "\u001b[0;36m  File \u001b[0;32m\"<ipython-input-28-4d83f5d8e300>\"\u001b[0;36m, line \u001b[0;32m6\u001b[0m\n\u001b[0;31m    print(i)\u001b[0m\n\u001b[0m            ^\u001b[0m\n\u001b[0;31mSyntaxError\u001b[0m\u001b[0;31m:\u001b[0m unexpected EOF while parsing\n"
     ]
    }
   ],
   "source": [
    "my_iter = map(lambda x: x%3==0, [1,2,3,4,5,6])\n",
    "# error\n",
    "while True:\n",
    "    try:\n",
    "        i = next(my_iter)\n",
    "        print(i)"
   ]
  },
  {
   "cell_type": "code",
   "execution_count": 29,
   "metadata": {},
   "outputs": [
    {
     "name": "stdout",
     "output_type": "stream",
     "text": [
      "False\n",
      "False\n",
      "True\n",
      "False\n",
      "False\n",
      "True\n"
     ]
    }
   ],
   "source": [
    "# exception\n",
    "my_iter = map(lambda x: x%3==0, [1,2,3,4,5,6])\n",
    "while True:\n",
    "    try:\n",
    "        i = next(my_iter)\n",
    "        print(i)\n",
    "    except StopIteration:\n",
    "        break"
   ]
  },
  {
   "cell_type": "raw",
   "metadata": {},
   "source": [
    "Iterators are preferable in some cases, because they are faster and use less memory space than lists - memory would be freed bit by bit as iterator keeps iterating. In this particular usecase we also can see, that with an iterator, you can call next() until StopIteration is raised - it is very convenient to iterate over object this way one by one and it allows to traversing through a collection in the same way despite of the type of elements in the collection. "
   ]
  },
  {
   "cell_type": "code",
   "execution_count": null,
   "metadata": {
    "collapsed": true
   },
   "outputs": [],
   "source": []
  },
  {
   "cell_type": "code",
   "execution_count": null,
   "metadata": {
    "collapsed": true
   },
   "outputs": [],
   "source": []
  },
  {
   "cell_type": "code",
   "execution_count": null,
   "metadata": {
    "collapsed": true
   },
   "outputs": [],
   "source": []
  },
  {
   "cell_type": "code",
   "execution_count": null,
   "metadata": {
    "collapsed": true
   },
   "outputs": [],
   "source": []
  }
 ],
 "metadata": {
  "kernelspec": {
   "display_name": "Python 3",
   "language": "python",
   "name": "python3"
  },
  "language_info": {
   "codemirror_mode": {
    "name": "ipython",
    "version": 3
   },
   "file_extension": ".py",
   "mimetype": "text/x-python",
   "name": "python",
   "nbconvert_exporter": "python",
   "pygments_lexer": "ipython3",
   "version": "3.6.10"
  }
 },
 "nbformat": 4,
 "nbformat_minor": 2
}
