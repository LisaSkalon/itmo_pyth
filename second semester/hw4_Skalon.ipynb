{
 "cells": [
  {
   "cell_type": "raw",
   "metadata": {},
   "source": [
    "The prefix spectrum of a weighted string is the collection of all its prefix weights.\n",
    "\n",
    "Given: A list L\n",
    "of n (n≤100) positive real numbers.\n",
    "\n",
    "Return: A protein string of length n−1\n",
    "whose prefix spectrum is equal to L (if multiple solutions exist, you may output any one of them). Consult the monoisotopic mass table."
   ]
  },
  {
   "cell_type": "markdown",
   "metadata": {},
   "source": [
    "## Imports"
   ]
  },
  {
   "cell_type": "code",
   "execution_count": 103,
   "metadata": {
    "collapsed": true
   },
   "outputs": [],
   "source": [
    "import numpy as np"
   ]
  },
  {
   "cell_type": "markdown",
   "metadata": {},
   "source": [
    "## Data"
   ]
  },
  {
   "cell_type": "code",
   "execution_count": 105,
   "metadata": {},
   "outputs": [],
   "source": [
    "# create array with monoisotopic masses\n",
    "mass_table=np.array([['A',71.03711],['C',103.00919], ['D',115.02694],\n",
    "                          ['E',129.04259], ['F',147.06841], ['G',57.02146],\n",
    "                          ['H',137.05891], ['I',113.08406], ['K',128.09496],\n",
    "                          ['L',113.08406], ['M',131.04049], ['N',114.04293],\n",
    "                          ['P',97.05276], ['Q',128.05858], ['R',156.10111], ['S',87.03203],\n",
    "                          ['T',101.04768], ['V',99.06841], ['W',186.07931], ['Y',163.06333]], dtype='object')"
   ]
  },
  {
   "cell_type": "code",
   "execution_count": 106,
   "metadata": {},
   "outputs": [
    {
     "data": {
      "text/plain": [
       "array([['A', 71.03711],\n",
       "       ['C', 103.00919],\n",
       "       ['D', 115.02694],\n",
       "       ['E', 129.04259],\n",
       "       ['F', 147.06841],\n",
       "       ['G', 57.02146],\n",
       "       ['H', 137.05891],\n",
       "       ['I', 113.08406],\n",
       "       ['K', 128.09496],\n",
       "       ['L', 113.08406],\n",
       "       ['M', 131.04049],\n",
       "       ['N', 114.04293],\n",
       "       ['P', 97.05276],\n",
       "       ['Q', 128.05858],\n",
       "       ['R', 156.10111],\n",
       "       ['S', 87.03203],\n",
       "       ['T', 101.04768],\n",
       "       ['V', 99.06841],\n",
       "       ['W', 186.07931],\n",
       "       ['Y', 163.06333]], dtype=object)"
      ]
     },
     "execution_count": 106,
     "metadata": {},
     "output_type": "execute_result"
    }
   ],
   "source": [
    "mass_table"
   ]
  },
  {
   "cell_type": "code",
   "execution_count": 107,
   "metadata": {},
   "outputs": [],
   "source": [
    "# import file with prefix spectrum or just example from Rosalind\n",
    "#L = [float(mass) for mass in open('spec.txt','r')]\n",
    "L = [3524.8542, 3710.9335, 3841.974, 3970.0326, 4057.0646]"
   ]
  },
  {
   "cell_type": "markdown",
   "metadata": {},
   "source": [
    "## Code"
   ]
  },
  {
   "cell_type": "code",
   "execution_count": 112,
   "metadata": {},
   "outputs": [],
   "source": [
    "# create array with differences between prefixes (because the difference will be\n",
    "# equals to individual acid mass). Round to 4 digits, because the input is rounded the same way)\n",
    "ind_masses = []\n",
    "for i in range(len(L)-1):\n",
    "    ind_masses.append(round(L[i+1]-L[i],4))"
   ]
  },
  {
   "cell_type": "code",
   "execution_count": 110,
   "metadata": {},
   "outputs": [],
   "source": [
    "# iterate through individual masses of acids and compare them to rounded standart masses from the table\n",
    "out=''\n",
    "for mass in ind_masses:\n",
    "    for i in range(len(mass_table)):\n",
    "        if round(mass_table[:,1][i], 4) == mass:\n",
    "            out+=mass_table[i,:][0]"
   ]
  },
  {
   "cell_type": "code",
   "execution_count": 111,
   "metadata": {},
   "outputs": [
    {
     "name": "stdout",
     "output_type": "stream",
     "text": [
      "WMQS\n"
     ]
    }
   ],
   "source": [
    "# resulting protein\n",
    "print(out)"
   ]
  },
  {
   "cell_type": "code",
   "execution_count": null,
   "metadata": {
    "collapsed": true
   },
   "outputs": [],
   "source": []
  }
 ],
 "metadata": {
  "kernelspec": {
   "display_name": "Python 3",
   "language": "python",
   "name": "python3"
  },
  "language_info": {
   "codemirror_mode": {
    "name": "ipython",
    "version": 3
   },
   "file_extension": ".py",
   "mimetype": "text/x-python",
   "name": "python",
   "nbconvert_exporter": "python",
   "pygments_lexer": "ipython3",
   "version": "3.6.9"
  }
 },
 "nbformat": 4,
 "nbformat_minor": 2
}
